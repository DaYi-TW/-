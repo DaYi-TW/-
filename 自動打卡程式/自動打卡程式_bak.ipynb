{
 "cells": [
  {
   "cell_type": "code",
   "execution_count": 1,
   "metadata": {},
   "outputs": [
    {
     "name": "stdout",
     "output_type": "stream",
     "text": [
      "f7522c550719d9b54ad91cde87967e2c\n",
      "{'PHPSESSID': 'c72febd71l2l7flcsfqbc5ti20', 'csrf_token': 'f7522c550719d9b54ad91cde87967e2c', 'dtag': '8c808897881cff6fd2'}\n"
     ]
    }
   ],
   "source": [
    "# Step 1: 先發送 GET 請求，獲取頁面內容及 cookies\n",
    "import requests\n",
    "login_url = \"https://cloud.nueip.com/login/\"\n",
    "session = requests.Session()\n",
    "session.headers.update({\n",
    "    \"user-agent\": \"Mozilla/5.0 (Windows NT 10.0; Win64; x64) AppleWebKit/537.36 (KHTML, like Gecko) Chrome/129.0.0.0 Safari/537.36\",\n",
    "    \"accept\": \"application/json, text/plain, */*\",\n",
    "    \"accept-language\": \"zh-TW,zh;q=0.9,en-US;q=0.8,en;q=0.7\"\n",
    "})\n",
    "response = session.get(login_url)\n",
    "\n",
    "# Step 2: 提取 csrf_token 從 cookie 或頁面\n",
    "# 如果 csrf_token 在 cookies 中\n",
    "csrf_token = session.cookies.get('csrf_token')\n",
    "print(csrf_token)\n",
    "# get cookie\n",
    "\n",
    "session_cookie = requests.utils.dict_from_cookiejar(session.cookies)\n",
    "print(session_cookie)"
   ]
  },
  {
   "cell_type": "code",
   "execution_count": 2,
   "metadata": {},
   "outputs": [
    {
     "name": "stdout",
     "output_type": "stream",
     "text": [
      "{\"verified\":false}\n"
     ]
    }
   ],
   "source": [
    "import requests\n",
    "\n",
    "url = \"https://api.nueip.com/sso/auth/verify\"\n",
    "\n",
    "headers = {\n",
    "    \"accept\": \"application/json, text/plain, */*\",\n",
    "    \"accept-language\": \"zh-TW,zh;q=0.9,en-US;q=0.8,en;q=0.7\",\n",
    "    \"content-type\": \"application/json; charset=UTF-8\",\n",
    "    \"cookie\": \"dtag=3ddd039dc5373ec19b; lang=tc; _ga=GA1.1.1704930766.1725963727; _ga_T3TFQJ4KVY=GS1.1.1727172389.7.1.1727173906.0.0.0; sso_session=eyJpdiI6IkJGakc2aGVJWmxCZFUrQmR0T216VkE9PSIsInZhbHVlIjoicDBCc0JwVFYrRVpWK2UyWnQ3WlFKQzBPVHZOSCtSMng4VHArd1VRMHVFaHJmWW53QnUzSW1qdVhIRTBzSkRqaW1QWldxZVdYY2M5UFhiVFNyMXNJdTlxRlhtTE5UOUVKM21MK0hQbUJta1JsanhxQ0dERGIrWk4zZTBXMzdEZ2QiLCJtYWMiOiI5ZTM3Y2I3NTVlMDMxOThhZjVkNjgyZjNmZjE5NDA1OWM4ZDllYzIyODNkOTNiY2MyZjJiYzQ4YzM1NDdmNDM0IiwidGFnIjoiIn0%3D; __fe-verified=false\",\n",
    "    \"origin\": \"https://portal.nueip.com\",\n",
    "    \"priority\": \"u=1, i\",\n",
    "    \"referer\": \"https://portal.nueip.com/\",\n",
    "    \"sec-ch-ua\": '\"Google Chrome\";v=\"129\", \"Not=A?Brand\";v=\"8\", \"Chromium\";v=\"129\"',\n",
    "    \"sec-ch-ua-mobile\": \"?0\",\n",
    "    \"sec-ch-ua-platform\": '\"Windows\"',\n",
    "    \"sec-fetch-dest\": \"empty\",\n",
    "    \"sec-fetch-mode\": \"cors\",\n",
    "    \"sec-fetch-site\": \"same-site\",\n",
    "    \"user-agent\": \"Mozilla/5.0 (Windows NT 10.0; Win64; x64) AppleWebKit/537.36 (KHTML, like Gecko) Chrome/129.0.0.0 Safari/537.36\"\n",
    "}\n",
    "\n",
    "payload = {\n",
    "    \"company_code\": \"64987355\"\n",
    "}\n",
    "\n",
    "response = requests.post(url, headers=headers, json=payload)\n",
    "\n",
    "print(response.text)\n"
   ]
  },
  {
   "cell_type": "code",
   "execution_count": 4,
   "metadata": {},
   "outputs": [
    {
     "name": "stdout",
     "output_type": "stream",
     "text": [
      "{\"status\":\"success\",\"message\":\"ok\"}\n"
     ]
    }
   ],
   "source": [
    "import requests\n",
    "\n",
    "url = \"https://cloud.nueip.com/login/index/param\"\n",
    "\n",
    "headers = {\n",
    "    \"accept\": \"application/json, text/plain, */*\",\n",
    "    \"accept-language\": \"zh-TW,zh;q=0.9,en-US;q=0.8,en;q=0.7\",\n",
    "    \"content-type\": \"application/x-www-form-urlencoded\",\n",
    "    \"origin\": \"https://portal.nueip.com\",\n",
    "    \"priority\": \"u=1, i\",\n",
    "    \"referer\": \"https://portal.nueip.com/\",\n",
    "    \"sec-ch-ua\": '\"Google Chrome\";v=\"129\", \"Not=A?Brand\";v=\"8\", \"Chromium\";v=\"129\"',\n",
    "    \"sec-ch-ua-mobile\": \"?0\",\n",
    "    \"sec-ch-ua-platform\": '\"Windows\"',\n",
    "    \"sec-fetch-dest\": \"empty\",\n",
    "    \"sec-fetch-mode\": \"cors\",\n",
    "    \"sec-fetch-site\": \"same-site\",\n",
    "    \"user-agent\": \"Mozilla/5.0 (Windows NT 10.0; Win64; x64) AppleWebKit/537.36 (KHTML, like Gecko) Chrome/129.0.0.0 Safari/537.36\",\n",
    "    \"x-requested-with\": \"XMLHttpRequest\"\n",
    "}\n",
    "\n",
    "data = {\n",
    "    \"inputCompany\": \"64987355\",\n",
    "    \"inputID\": \"00692\",\n",
    "    \"inputPassword\": \"00692\"\n",
    "}\n",
    "\n",
    "response = session.post(url, headers=headers, data=data)\n",
    "\n",
    "print(response.text)\n"
   ]
  },
  {
   "cell_type": "code",
   "execution_count": 5,
   "metadata": {},
   "outputs": [
    {
     "data": {
      "text/plain": [
       "{'PHPSESSID': 'c72febd71l2l7flcsfqbc5ti20',\n",
       " 'zone': '8',\n",
       " 'lang': 'tc',\n",
       " 'login': 'portal.hrm',\n",
       " 'activity': '1727236651',\n",
       " 'idle': '3600',\n",
       " 'signature': 'e23205df67459c8149755cd880ed9c882ccd422f',\n",
       " 'checksum': 'bacf9ee8d33c93f52ddbae868825c30c4a1fc80f',\n",
       " 'country': 'TW',\n",
       " 'countryByIP': 'TW',\n",
       " 'locate': '%E5%8F%B0%E5%8C%97',\n",
       " 'loginTime': '1727236651.0211',\n",
       " 'tkchecksum': 'ee10b00e628873f01f107bd8936d89c84efe5ebb',\n",
       " 'cuid': 'MjEwMTIuNTE0MjMx',\n",
       " 'dtag': '8c808897881cff6fd2'}"
      ]
     },
     "execution_count": 5,
     "metadata": {},
     "output_type": "execute_result"
    }
   ],
   "source": [
    "requests.utils.dict_from_cookiejar(response.cookies)"
   ]
  },
  {
   "cell_type": "code",
   "execution_count": 6,
   "metadata": {},
   "outputs": [
    {
     "name": "stdout",
     "output_type": "stream",
     "text": [
      "204\n",
      "<RequestsCookieJar[]>\n"
     ]
    }
   ],
   "source": [
    "import requests\n",
    "\n",
    "url = \"https://cloud.nueip.com/oauth2/token/api\"\n",
    "\n",
    "headers = {\n",
    "    \"accept\": \"*/*\",\n",
    "    \"accept-language\": \"zh-TW,zh;q=0.9,en-US;q=0.8,en;q=0.7\",\n",
    "    \"access-control-request-headers\": \"x-requested-with\",\n",
    "    \"access-control-request-method\": \"GET\",\n",
    "    \"origin\": \"https://portal.nueip.com\",\n",
    "    \"priority\": \"u=1, i\",\n",
    "    \"referer\": \"https://portal.nueip.com/\",\n",
    "    \"sec-fetch-dest\": \"empty\",\n",
    "    \"sec-fetch-mode\": \"cors\",\n",
    "    \"sec-fetch-site\": \"same-site\",\n",
    "    \"user-agent\": \"Mozilla/5.0 (Windows NT 10.0; Win64; x64) AppleWebKit/537.36 (KHTML, like Gecko) Chrome/128.0.0.0 Safari/537.36\"\n",
    "}\n",
    "\n",
    "response = session.options(url, headers=headers)\n",
    "\n",
    "print(response.status_code)\n",
    "print(response.cookies)\n"
   ]
  },
  {
   "cell_type": "code",
   "execution_count": 7,
   "metadata": {},
   "outputs": [
    {
     "ename": "NameError",
     "evalue": "name 'cookies_dict' is not defined",
     "output_type": "error",
     "traceback": [
      "\u001b[1;31m---------------------------------------------------------------------------\u001b[0m",
      "\u001b[1;31mNameError\u001b[0m                                 Traceback (most recent call last)",
      "Cell \u001b[1;32mIn[7], line 4\u001b[0m\n\u001b[0;32m      2\u001b[0m \u001b[38;5;28;01mfrom\u001b[39;00m \u001b[38;5;21;01murllib\u001b[39;00m\u001b[38;5;21;01m.\u001b[39;00m\u001b[38;5;21;01mparse\u001b[39;00m \u001b[38;5;28;01mimport\u001b[39;00m quote\n\u001b[0;32m      3\u001b[0m url \u001b[38;5;241m=\u001b[39m \u001b[38;5;124m\"\u001b[39m\u001b[38;5;124mhttps://cloud.nueip.com/oauth2/token/api\u001b[39m\u001b[38;5;124m\"\u001b[39m\n\u001b[1;32m----> 4\u001b[0m cookie\u001b[38;5;241m=\u001b[39m \u001b[38;5;124mf\u001b[39m\u001b[38;5;124m\"\u001b[39m\u001b[38;5;124mdtag=3ddd039dc5373ec19b; lang=tc; _ga=GA1.1.1704930766.1725963727; PHPSESSID=\u001b[39m\u001b[38;5;132;01m{\u001b[39;00msession_cookie[\u001b[38;5;124m'\u001b[39m\u001b[38;5;124mPHPSESSID\u001b[39m\u001b[38;5;124m'\u001b[39m]\u001b[38;5;132;01m}\u001b[39;00m\u001b[38;5;124m; _ga_T3TFQJ4KVY=GS1.1.1727086363.5.1.1727086496.0.0.0; language=tc; csrf_token=\u001b[39m\u001b[38;5;132;01m{\u001b[39;00mcsrf_token\u001b[38;5;132;01m}\u001b[39;00m\u001b[38;5;124m; __fe-verified=false; zone=8; login=portal.hrm; idle=3600; country=TW; countryByIP=TW; locate=台北; loginTime=\u001b[39m\u001b[38;5;132;01m{\u001b[39;00m\u001b[43mcookies_dict\u001b[49m[\u001b[38;5;124m'\u001b[39m\u001b[38;5;124mloginTime\u001b[39m\u001b[38;5;124m'\u001b[39m]\u001b[38;5;132;01m}\u001b[39;00m\u001b[38;5;124m; cuid=MjEwMTIuNTE0MjMx; activity=\u001b[39m\u001b[38;5;132;01m{\u001b[39;00mcookies_dict[\u001b[38;5;124m'\u001b[39m\u001b[38;5;124mactivity\u001b[39m\u001b[38;5;124m'\u001b[39m]\u001b[38;5;132;01m}\u001b[39;00m\u001b[38;5;124m; tkchecksum=\u001b[39m\u001b[38;5;132;01m{\u001b[39;00mcookies_dict[\u001b[38;5;124m'\u001b[39m\u001b[38;5;124mtkchecksum\u001b[39m\u001b[38;5;124m'\u001b[39m]\u001b[38;5;132;01m}\u001b[39;00m\u001b[38;5;124m; signature=\u001b[39m\u001b[38;5;132;01m{\u001b[39;00mcookies_dict[\u001b[38;5;124m'\u001b[39m\u001b[38;5;124msignature\u001b[39m\u001b[38;5;124m'\u001b[39m]\u001b[38;5;132;01m}\u001b[39;00m\u001b[38;5;124m; checksum=\u001b[39m\u001b[38;5;132;01m{\u001b[39;00mcookies_dict[\u001b[38;5;124m'\u001b[39m\u001b[38;5;124mchecksum\u001b[39m\u001b[38;5;124m'\u001b[39m]\u001b[38;5;132;01m}\u001b[39;00m\u001b[38;5;124m\"\u001b[39m\n\u001b[0;32m      5\u001b[0m encoded_cookie_value \u001b[38;5;241m=\u001b[39m cookie\u001b[38;5;241m.\u001b[39mreplace(\u001b[38;5;124m\"\u001b[39m\u001b[38;5;124m台北\u001b[39m\u001b[38;5;124m\"\u001b[39m, quote(\u001b[38;5;124m\"\u001b[39m\u001b[38;5;124m台北\u001b[39m\u001b[38;5;124m\"\u001b[39m))\n\u001b[0;32m      6\u001b[0m headers \u001b[38;5;241m=\u001b[39m {\n\u001b[0;32m      7\u001b[0m     \u001b[38;5;124m\"\u001b[39m\u001b[38;5;124maccept\u001b[39m\u001b[38;5;124m\"\u001b[39m: \u001b[38;5;124m\"\u001b[39m\u001b[38;5;124mapplication/json, text/plain, */*\u001b[39m\u001b[38;5;124m\"\u001b[39m,\n\u001b[0;32m      8\u001b[0m     \u001b[38;5;124m\"\u001b[39m\u001b[38;5;124maccept-language\u001b[39m\u001b[38;5;124m\"\u001b[39m: \u001b[38;5;124m\"\u001b[39m\u001b[38;5;124mzh-TW\u001b[39m\u001b[38;5;124m\"\u001b[39m,\n\u001b[1;32m   (...)\u001b[0m\n\u001b[0;32m     19\u001b[0m     \u001b[38;5;124m\"\u001b[39m\u001b[38;5;124mx-requested-with\u001b[39m\u001b[38;5;124m\"\u001b[39m: \u001b[38;5;124m\"\u001b[39m\u001b[38;5;124mXMLHttpRequest\u001b[39m\u001b[38;5;124m\"\u001b[39m\n\u001b[0;32m     20\u001b[0m }\n",
      "\u001b[1;31mNameError\u001b[0m: name 'cookies_dict' is not defined"
     ]
    }
   ],
   "source": [
    "import requests\n",
    "from urllib.parse import quote\n",
    "url = \"https://cloud.nueip.com/oauth2/token/api\"\n",
    "cookie= f\"dtag=3ddd039dc5373ec19b; lang=tc; _ga=GA1.1.1704930766.1725963727; PHPSESSID={session_cookie['PHPSESSID']}; _ga_T3TFQJ4KVY=GS1.1.1727086363.5.1.1727086496.0.0.0; language=tc; csrf_token={csrf_token}; __fe-verified=false; zone=8; login=portal.hrm; idle=3600; country=TW; countryByIP=TW; locate=台北; loginTime={cookies_dict['loginTime']}; cuid=MjEwMTIuNTE0MjMx; activity={cookies_dict['activity']}; tkchecksum={cookies_dict['tkchecksum']}; signature={cookies_dict['signature']}; checksum={cookies_dict['checksum']}\"\n",
    "encoded_cookie_value = cookie.replace(\"台北\", quote(\"台北\"))\n",
    "headers = {\n",
    "    \"accept\": \"application/json, text/plain, */*\",\n",
    "    \"accept-language\": \"zh-TW\",\n",
    "    \"origin\": \"https://portal.nueip.com\",\n",
    "    \"priority\": \"u=1, i\",\n",
    "    \"referer\": \"https://portal.nueip.com/\",\n",
    "    \"sec-ch-ua\": '\"Chromium\";v=\"128\", \"Not;A=Brand\";v=\"24\", \"Google Chrome\";v=\"128\"',\n",
    "    \"sec-ch-ua-mobile\": \"?0\",\n",
    "    \"sec-ch-ua-platform\": '\"Windows\"',\n",
    "    \"sec-fetch-dest\": \"empty\",\n",
    "    \"sec-fetch-mode\": \"cors\",\n",
    "    \"sec-fetch-site\": \"same-site\",\n",
    "    \"user-agent\": \"Mozilla/5.0 (Windows NT 10.0; Win64; x64) AppleWebKit/537.36 (KHTML, like Gecko) Chrome/128.0.0.0 Safari/537.36\",\n",
    "    \"x-requested-with\": \"XMLHttpRequest\"\n",
    "}\n",
    "\n",
    "response = session.get(url, headers=headers)\n",
    "response.encoding = 'utf-8'  # 强制将响应内容编码设置为 utf-8\n",
    "\n",
    "print(response.status_code)\n",
    "token_access_token = response.json()['token_access_token']\n",
    "print(token_access_token)\n"
   ]
  },
  {
   "cell_type": "code",
   "execution_count": 15,
   "metadata": {},
   "outputs": [],
   "source": []
  },
  {
   "cell_type": "code",
   "execution_count": 8,
   "metadata": {},
   "outputs": [
    {
     "ename": "NameError",
     "evalue": "name 'token_access_token' is not defined",
     "output_type": "error",
     "traceback": [
      "\u001b[1;31m---------------------------------------------------------------------------\u001b[0m",
      "\u001b[1;31mNameError\u001b[0m                                 Traceback (most recent call last)",
      "Cell \u001b[1;32mIn[8], line 8\u001b[0m\n\u001b[0;32m      1\u001b[0m \u001b[38;5;28;01mimport\u001b[39;00m \u001b[38;5;21;01mrequests\u001b[39;00m\n\u001b[0;32m      3\u001b[0m url \u001b[38;5;241m=\u001b[39m \u001b[38;5;124m\"\u001b[39m\u001b[38;5;124mhttps://cloud.nueip.com/login/index/param\u001b[39m\u001b[38;5;124m\"\u001b[39m\n\u001b[0;32m      5\u001b[0m headers \u001b[38;5;241m=\u001b[39m {\n\u001b[0;32m      6\u001b[0m     \u001b[38;5;124m\"\u001b[39m\u001b[38;5;124maccept\u001b[39m\u001b[38;5;124m\"\u001b[39m: \u001b[38;5;124m\"\u001b[39m\u001b[38;5;124mapplication/json, text/plain, */*\u001b[39m\u001b[38;5;124m\"\u001b[39m,\n\u001b[0;32m      7\u001b[0m     \u001b[38;5;124m\"\u001b[39m\u001b[38;5;124maccept-language\u001b[39m\u001b[38;5;124m\"\u001b[39m: \u001b[38;5;124m\"\u001b[39m\u001b[38;5;124mzh-TW\u001b[39m\u001b[38;5;124m\"\u001b[39m,\n\u001b[1;32m----> 8\u001b[0m     \u001b[38;5;124m\"\u001b[39m\u001b[38;5;124mauthorization\u001b[39m\u001b[38;5;124m\"\u001b[39m: \u001b[38;5;124mf\u001b[39m\u001b[38;5;124m\"\u001b[39m\u001b[38;5;124mBearer \u001b[39m\u001b[38;5;132;01m{\u001b[39;00m\u001b[43mtoken_access_token\u001b[49m\u001b[38;5;132;01m}\u001b[39;00m\u001b[38;5;124m\"\u001b[39m, \u001b[38;5;66;03m# Truncated for brevity\u001b[39;00m\n\u001b[0;32m      9\u001b[0m     \u001b[38;5;124m\"\u001b[39m\u001b[38;5;124mcontent-type\u001b[39m\u001b[38;5;124m\"\u001b[39m: \u001b[38;5;124m\"\u001b[39m\u001b[38;5;124mapplication/x-www-form-urlencoded\u001b[39m\u001b[38;5;124m\"\u001b[39m,\n\u001b[0;32m     10\u001b[0m     \u001b[38;5;124mf\u001b[39m\u001b[38;5;124m\"\u001b[39m\u001b[38;5;124mcookie\u001b[39m\u001b[38;5;124m\"\u001b[39m: \u001b[38;5;124m\"\u001b[39m\u001b[38;5;124mdtag=3ddd039dc5373ec19b; lang=tc; _ga=GA1.1.1704930766.1725963727; PHPSESSID=3p98dqvhd9u7fq09ta7q7fnd33; _ga_T3TFQJ4KVY=GS1.1.1727086363.5.1.1727086496.0.0.0; language=tc; csrf_token=\u001b[39m\u001b[38;5;132;01m{csrf_token}\u001b[39;00m\u001b[38;5;124m; __fe-verified=false\u001b[39m\u001b[38;5;124m\"\u001b[39m,\n\u001b[0;32m     11\u001b[0m     \u001b[38;5;124m\"\u001b[39m\u001b[38;5;124morigin\u001b[39m\u001b[38;5;124m\"\u001b[39m: \u001b[38;5;124m\"\u001b[39m\u001b[38;5;124mhttps://portal.nueip.com\u001b[39m\u001b[38;5;124m\"\u001b[39m,\n\u001b[0;32m     12\u001b[0m     \u001b[38;5;124m\"\u001b[39m\u001b[38;5;124mpriority\u001b[39m\u001b[38;5;124m\"\u001b[39m: \u001b[38;5;124m\"\u001b[39m\u001b[38;5;124mu=1, i\u001b[39m\u001b[38;5;124m\"\u001b[39m,\n\u001b[0;32m     13\u001b[0m     \u001b[38;5;124m\"\u001b[39m\u001b[38;5;124mreferer\u001b[39m\u001b[38;5;124m\"\u001b[39m: \u001b[38;5;124m\"\u001b[39m\u001b[38;5;124mhttps://portal.nueip.com/\u001b[39m\u001b[38;5;124m\"\u001b[39m,\n\u001b[0;32m     14\u001b[0m     \u001b[38;5;124m\"\u001b[39m\u001b[38;5;124msec-ch-ua\u001b[39m\u001b[38;5;124m\"\u001b[39m: \u001b[38;5;124m'\u001b[39m\u001b[38;5;124m\"\u001b[39m\u001b[38;5;124mChromium\u001b[39m\u001b[38;5;124m\"\u001b[39m\u001b[38;5;124m;v=\u001b[39m\u001b[38;5;124m\"\u001b[39m\u001b[38;5;124m128\u001b[39m\u001b[38;5;124m\"\u001b[39m\u001b[38;5;124m, \u001b[39m\u001b[38;5;124m\"\u001b[39m\u001b[38;5;124mNot;A=Brand\u001b[39m\u001b[38;5;124m\"\u001b[39m\u001b[38;5;124m;v=\u001b[39m\u001b[38;5;124m\"\u001b[39m\u001b[38;5;124m24\u001b[39m\u001b[38;5;124m\"\u001b[39m\u001b[38;5;124m, \u001b[39m\u001b[38;5;124m\"\u001b[39m\u001b[38;5;124mGoogle Chrome\u001b[39m\u001b[38;5;124m\"\u001b[39m\u001b[38;5;124m;v=\u001b[39m\u001b[38;5;124m\"\u001b[39m\u001b[38;5;124m128\u001b[39m\u001b[38;5;124m\"\u001b[39m\u001b[38;5;124m'\u001b[39m,\n\u001b[0;32m     15\u001b[0m     \u001b[38;5;124m\"\u001b[39m\u001b[38;5;124msec-ch-ua-mobile\u001b[39m\u001b[38;5;124m\"\u001b[39m: \u001b[38;5;124m\"\u001b[39m\u001b[38;5;124m?0\u001b[39m\u001b[38;5;124m\"\u001b[39m,\n\u001b[0;32m     16\u001b[0m     \u001b[38;5;124m\"\u001b[39m\u001b[38;5;124msec-ch-ua-platform\u001b[39m\u001b[38;5;124m\"\u001b[39m: \u001b[38;5;124m'\u001b[39m\u001b[38;5;124m\"\u001b[39m\u001b[38;5;124mWindows\u001b[39m\u001b[38;5;124m\"\u001b[39m\u001b[38;5;124m'\u001b[39m,\n\u001b[0;32m     17\u001b[0m     \u001b[38;5;124m\"\u001b[39m\u001b[38;5;124msec-fetch-dest\u001b[39m\u001b[38;5;124m\"\u001b[39m: \u001b[38;5;124m\"\u001b[39m\u001b[38;5;124mempty\u001b[39m\u001b[38;5;124m\"\u001b[39m,\n\u001b[0;32m     18\u001b[0m     \u001b[38;5;124m\"\u001b[39m\u001b[38;5;124msec-fetch-mode\u001b[39m\u001b[38;5;124m\"\u001b[39m: \u001b[38;5;124m\"\u001b[39m\u001b[38;5;124mcors\u001b[39m\u001b[38;5;124m\"\u001b[39m,\n\u001b[0;32m     19\u001b[0m     \u001b[38;5;124m\"\u001b[39m\u001b[38;5;124msec-fetch-site\u001b[39m\u001b[38;5;124m\"\u001b[39m: \u001b[38;5;124m\"\u001b[39m\u001b[38;5;124msame-site\u001b[39m\u001b[38;5;124m\"\u001b[39m,\n\u001b[0;32m     20\u001b[0m     \u001b[38;5;124m\"\u001b[39m\u001b[38;5;124muser-agent\u001b[39m\u001b[38;5;124m\"\u001b[39m: \u001b[38;5;124m\"\u001b[39m\u001b[38;5;124mMozilla/5.0 (Windows NT 10.0; Win64; x64) AppleWebKit/537.36 (KHTML, like Gecko) Chrome/128.0.0.0 Safari/537.36\u001b[39m\u001b[38;5;124m\"\u001b[39m,\n\u001b[0;32m     21\u001b[0m     \u001b[38;5;124m\"\u001b[39m\u001b[38;5;124mx-requested-with\u001b[39m\u001b[38;5;124m\"\u001b[39m: \u001b[38;5;124m\"\u001b[39m\u001b[38;5;124mXMLHttpRequest\u001b[39m\u001b[38;5;124m\"\u001b[39m\n\u001b[0;32m     22\u001b[0m }\n\u001b[0;32m     24\u001b[0m data \u001b[38;5;241m=\u001b[39m {\n\u001b[0;32m     25\u001b[0m     \u001b[38;5;124m\"\u001b[39m\u001b[38;5;124minputCompany\u001b[39m\u001b[38;5;124m\"\u001b[39m: \u001b[38;5;124m\"\u001b[39m\u001b[38;5;124m64987355\u001b[39m\u001b[38;5;124m\"\u001b[39m,\n\u001b[0;32m     26\u001b[0m     \u001b[38;5;124m\"\u001b[39m\u001b[38;5;124minputID\u001b[39m\u001b[38;5;124m\"\u001b[39m: \u001b[38;5;124m\"\u001b[39m\u001b[38;5;124m00692\u001b[39m\u001b[38;5;124m\"\u001b[39m,\n\u001b[0;32m     27\u001b[0m     \u001b[38;5;124m\"\u001b[39m\u001b[38;5;124minputPassword\u001b[39m\u001b[38;5;124m\"\u001b[39m: \u001b[38;5;124m\"\u001b[39m\u001b[38;5;124m00692\u001b[39m\u001b[38;5;124m\"\u001b[39m\n\u001b[0;32m     28\u001b[0m }\n\u001b[0;32m     30\u001b[0m response \u001b[38;5;241m=\u001b[39m requests\u001b[38;5;241m.\u001b[39mpost(url, headers\u001b[38;5;241m=\u001b[39mheaders, data\u001b[38;5;241m=\u001b[39mdata)\n",
      "\u001b[1;31mNameError\u001b[0m: name 'token_access_token' is not defined"
     ]
    }
   ],
   "source": [
    "import requests\n",
    "\n",
    "url = \"https://cloud.nueip.com/login/index/param\"\n",
    "\n",
    "headers = {\n",
    "    \"accept\": \"application/json, text/plain, */*\",\n",
    "    \"accept-language\": \"zh-TW\",\n",
    "    \"authorization\": f\"Bearer {token_access_token}\", # Truncated for brevity\n",
    "    \"content-type\": \"application/x-www-form-urlencoded\",\n",
    "    f\"cookie\": \"dtag=3ddd039dc5373ec19b; lang=tc; _ga=GA1.1.1704930766.1725963727; PHPSESSID=3p98dqvhd9u7fq09ta7q7fnd33; _ga_T3TFQJ4KVY=GS1.1.1727086363.5.1.1727086496.0.0.0; language=tc; csrf_token={csrf_token}; __fe-verified=false\",\n",
    "    \"origin\": \"https://portal.nueip.com\",\n",
    "    \"priority\": \"u=1, i\",\n",
    "    \"referer\": \"https://portal.nueip.com/\",\n",
    "    \"sec-ch-ua\": '\"Chromium\";v=\"128\", \"Not;A=Brand\";v=\"24\", \"Google Chrome\";v=\"128\"',\n",
    "    \"sec-ch-ua-mobile\": \"?0\",\n",
    "    \"sec-ch-ua-platform\": '\"Windows\"',\n",
    "    \"sec-fetch-dest\": \"empty\",\n",
    "    \"sec-fetch-mode\": \"cors\",\n",
    "    \"sec-fetch-site\": \"same-site\",\n",
    "    \"user-agent\": \"Mozilla/5.0 (Windows NT 10.0; Win64; x64) AppleWebKit/537.36 (KHTML, like Gecko) Chrome/128.0.0.0 Safari/537.36\",\n",
    "    \"x-requested-with\": \"XMLHttpRequest\"\n",
    "}\n",
    "\n",
    "data = {\n",
    "    \"inputCompany\": \"64987355\",\n",
    "    \"inputID\": \"00692\",\n",
    "    \"inputPassword\": \"00692\"\n",
    "}\n",
    "\n",
    "response = requests.post(url, headers=headers, data=data)\n",
    "\n",
    "print(response.status_code)\n",
    "print(response.json())  # 如果返回是 JSON 格式的內容，使用此行\n",
    "\n",
    "cookies = response.cookies\n",
    "cookies_dict = requests.utils.dict_from_cookiejar(cookies)\n",
    "print(cookies_dict)\n"
   ]
  },
  {
   "cell_type": "markdown",
   "metadata": {},
   "source": [
    "# 取得token"
   ]
  },
  {
   "cell_type": "code",
   "execution_count": 9,
   "metadata": {},
   "outputs": [
    {
     "name": "stdout",
     "output_type": "stream",
     "text": [
      "Token: a7a705b4b1e45a90f0f18ee98498a765da14e9a7de606b5b30a0cc3784eec96b\n"
     ]
    }
   ],
   "source": [
    "import requests\n",
    "from bs4 import BeautifulSoup\n",
    "\n",
    "# 發送 GET 請求到指定網址\n",
    "url = \"https://cloud.nueip.com/home\"\n",
    "\n",
    "\n",
    "response = session.get(url)\n",
    "\n",
    "# 解析 HTML\n",
    "soup = BeautifulSoup(response.text, 'html.parser')\n",
    "\n",
    "# 找到 <input name=\"token\"> 的內容\n",
    "token_input = soup.find('input', {'name': 'token'})\n",
    "\n",
    "# 獲取 token 的值\n",
    "if token_input:\n",
    "    token_value = token_input.get('value')\n",
    "    print(f\"Token: {token_value}\")\n",
    "else:\n",
    "    print(\"Token 未找到\")\n"
   ]
  },
  {
   "cell_type": "code",
   "execution_count": 72,
   "metadata": {},
   "outputs": [
    {
     "name": "stdout",
     "output_type": "stream",
     "text": [
      "請重新登入系統\n"
     ]
    }
   ],
   "source": [
    "print(\"\\u8acb\\u91cd\\u65b0\\u767b\\u5165\\u7cfb\\u7d71\")"
   ]
  },
  {
   "cell_type": "markdown",
   "metadata": {},
   "source": [
    "# 下班"
   ]
  },
  {
   "cell_type": "code",
   "execution_count": 27,
   "metadata": {},
   "outputs": [
    {
     "name": "stdout",
     "output_type": "stream",
     "text": [
      "{\"status\":\"success\",\"message\":\"GPS\\u6253\\u5361\\u6210\\u529f\",\"datetime\":\"2024-09-24 18:17:56\",\"time\":\"18:17:56\",\"rulesn\":\"240410717\",\"display_view\":false,\"display_overtime\":false}\n"
     ]
    }
   ],
   "source": [
    "import requests\n",
    "\n",
    "url = \"https://cloud.nueip.com/time_clocks/ajax\"\n",
    "\n",
    "\n",
    "data = {\n",
    "    \"action\": \"add\",\n",
    "    \"id\": \"2\",\n",
    "    \"attendance_time\": \"2024-9-24 18:14:02\",\n",
    "    \"token\": token_value,\n",
    "    \"lat\": \"24.15066\",\n",
    "    \"lng\": \"120.6625099\"\n",
    "}\n",
    "\n",
    "response = session.post(url, headers=headers, data=data)\n",
    "\n",
    "print(response.text)\n"
   ]
  },
  {
   "cell_type": "markdown",
   "metadata": {},
   "source": [
    "# 上班"
   ]
  },
  {
   "cell_type": "code",
   "execution_count": null,
   "metadata": {},
   "outputs": [],
   "source": [
    "import requests\n",
    "\n",
    "url = \"https://cloud.nueip.com/time_clocks/ajax\"\n",
    "\n",
    "# 定義 payload，這裡的數據將以 `application/x-www-form-urlencoded` 格式傳送\n",
    "payload = {\n",
    "    \"check_type\": \"1\",\n",
    "    \"id\": \"1\",\n",
    "    \"token\": token_value,\n",
    "    \"attendance_time\": \"2024-09-25 08:57:56\",\n",
    "    \"lat\": \"24.15066\",\n",
    "    \"lng\": \"120.6625099\"\n",
    "}\n",
    "\n",
    "# 設置 headers（可選，根據API要求）\n",
    "headers = {\n",
    "    \"Content-Type\": \"application/x-www-form-urlencoded\",\n",
    "    \"accept\": \"application/json\"\n",
    "}\n",
    "\n",
    "# 發送POST請求，將payload作為數據發送\n",
    "response = session.post(url, data=payload, headers=headers)\n",
    "\n",
    "# 輸出回應內容\n",
    "print(response.text)"
   ]
  }
 ],
 "metadata": {
  "kernelspec": {
   "display_name": "master",
   "language": "python",
   "name": "python3"
  },
  "language_info": {
   "codemirror_mode": {
    "name": "ipython",
    "version": 3
   },
   "file_extension": ".py",
   "mimetype": "text/x-python",
   "name": "python",
   "nbconvert_exporter": "python",
   "pygments_lexer": "ipython3",
   "version": "3.12.0"
  }
 },
 "nbformat": 4,
 "nbformat_minor": 2
}
